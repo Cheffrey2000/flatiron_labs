{
 "cells": [
  {
   "cell_type": "markdown",
   "metadata": {},
   "source": [
    "# Understanding Pandas Series and DataFrames - Lab\n",
    "\n",
    "## Introduction\n",
    "\n",
    "In this lab, let's get some hands on practice working with data cleanup using Pandas.\n",
    "\n",
    "## Objectives\n",
    "You will be able to:\n",
    "\n",
    "* Manipulate columns in DataFrames (df.rename, df.drop)\n",
    "* Manipulate the index in DataFrames (df.reindex, df.drop, df.rename)\n",
    "* Manipulate column datatypes\n",
    "\n",
    "## Let's get started!"
   ]
  },
  {
   "cell_type": "code",
   "execution_count": 1,
   "metadata": {},
   "outputs": [],
   "source": [
    "import pandas as pd\n",
    "import matplotlib.pyplot as plt\n",
    "%matplotlib inline"
   ]
  },
  {
   "cell_type": "code",
   "execution_count": 2,
   "metadata": {},
   "outputs": [
    {
     "name": "stdout",
     "output_type": "stream",
     "text": [
      "197625\n"
     ]
    },
    {
     "data": {
      "text/html": [
       "<div>\n",
       "<style scoped>\n",
       "    .dataframe tbody tr th:only-of-type {\n",
       "        vertical-align: middle;\n",
       "    }\n",
       "\n",
       "    .dataframe tbody tr th {\n",
       "        vertical-align: top;\n",
       "    }\n",
       "\n",
       "    .dataframe thead th {\n",
       "        text-align: right;\n",
       "    }\n",
       "</style>\n",
       "<table border=\"1\" class=\"dataframe\">\n",
       "  <thead>\n",
       "    <tr style=\"text-align: right;\">\n",
       "      <th></th>\n",
       "      <th>C/A</th>\n",
       "      <th>UNIT</th>\n",
       "      <th>SCP</th>\n",
       "      <th>STATION</th>\n",
       "      <th>LINENAME</th>\n",
       "      <th>DIVISION</th>\n",
       "      <th>DATE</th>\n",
       "      <th>TIME</th>\n",
       "      <th>DESC</th>\n",
       "      <th>ENTRIES</th>\n",
       "      <th>EXITS</th>\n",
       "    </tr>\n",
       "  </thead>\n",
       "  <tbody>\n",
       "    <tr>\n",
       "      <th>0</th>\n",
       "      <td>A002</td>\n",
       "      <td>R051</td>\n",
       "      <td>02-00-00</td>\n",
       "      <td>59 ST</td>\n",
       "      <td>NQR456W</td>\n",
       "      <td>BMT</td>\n",
       "      <td>08/25/2018</td>\n",
       "      <td>00:00:00</td>\n",
       "      <td>REGULAR</td>\n",
       "      <td>6736067</td>\n",
       "      <td>2283184</td>\n",
       "    </tr>\n",
       "    <tr>\n",
       "      <th>1</th>\n",
       "      <td>A002</td>\n",
       "      <td>R051</td>\n",
       "      <td>02-00-00</td>\n",
       "      <td>59 ST</td>\n",
       "      <td>NQR456W</td>\n",
       "      <td>BMT</td>\n",
       "      <td>08/25/2018</td>\n",
       "      <td>04:00:00</td>\n",
       "      <td>REGULAR</td>\n",
       "      <td>6736087</td>\n",
       "      <td>2283188</td>\n",
       "    </tr>\n",
       "    <tr>\n",
       "      <th>2</th>\n",
       "      <td>A002</td>\n",
       "      <td>R051</td>\n",
       "      <td>02-00-00</td>\n",
       "      <td>59 ST</td>\n",
       "      <td>NQR456W</td>\n",
       "      <td>BMT</td>\n",
       "      <td>08/25/2018</td>\n",
       "      <td>08:00:00</td>\n",
       "      <td>REGULAR</td>\n",
       "      <td>6736105</td>\n",
       "      <td>2283229</td>\n",
       "    </tr>\n",
       "    <tr>\n",
       "      <th>3</th>\n",
       "      <td>A002</td>\n",
       "      <td>R051</td>\n",
       "      <td>02-00-00</td>\n",
       "      <td>59 ST</td>\n",
       "      <td>NQR456W</td>\n",
       "      <td>BMT</td>\n",
       "      <td>08/25/2018</td>\n",
       "      <td>12:00:00</td>\n",
       "      <td>REGULAR</td>\n",
       "      <td>6736180</td>\n",
       "      <td>2283314</td>\n",
       "    </tr>\n",
       "    <tr>\n",
       "      <th>4</th>\n",
       "      <td>A002</td>\n",
       "      <td>R051</td>\n",
       "      <td>02-00-00</td>\n",
       "      <td>59 ST</td>\n",
       "      <td>NQR456W</td>\n",
       "      <td>BMT</td>\n",
       "      <td>08/25/2018</td>\n",
       "      <td>16:00:00</td>\n",
       "      <td>REGULAR</td>\n",
       "      <td>6736349</td>\n",
       "      <td>2283384</td>\n",
       "    </tr>\n",
       "  </tbody>\n",
       "</table>\n",
       "</div>"
      ],
      "text/plain": [
       "    C/A  UNIT       SCP STATION LINENAME DIVISION        DATE      TIME  \\\n",
       "0  A002  R051  02-00-00   59 ST  NQR456W      BMT  08/25/2018  00:00:00   \n",
       "1  A002  R051  02-00-00   59 ST  NQR456W      BMT  08/25/2018  04:00:00   \n",
       "2  A002  R051  02-00-00   59 ST  NQR456W      BMT  08/25/2018  08:00:00   \n",
       "3  A002  R051  02-00-00   59 ST  NQR456W      BMT  08/25/2018  12:00:00   \n",
       "4  A002  R051  02-00-00   59 ST  NQR456W      BMT  08/25/2018  16:00:00   \n",
       "\n",
       "      DESC  ENTRIES  \\\n",
       "0  REGULAR  6736067   \n",
       "1  REGULAR  6736087   \n",
       "2  REGULAR  6736105   \n",
       "3  REGULAR  6736180   \n",
       "4  REGULAR  6736349   \n",
       "\n",
       "   EXITS                                                                 \n",
       "0                                            2283184                     \n",
       "1                                            2283188                     \n",
       "2                                            2283229                     \n",
       "3                                            2283314                     \n",
       "4                                            2283384                     "
      ]
     },
     "execution_count": 2,
     "metadata": {},
     "output_type": "execute_result"
    }
   ],
   "source": [
    "df = pd.read_csv('turnstile_180901.txt')\n",
    "print(len(df))\n",
    "df.head()"
   ]
  },
  {
   "cell_type": "markdown",
   "metadata": {},
   "source": [
    "## Rename all the columns to lower case"
   ]
  },
  {
   "cell_type": "code",
   "execution_count": 13,
   "metadata": {},
   "outputs": [
    {
     "name": "stdout",
     "output_type": "stream",
     "text": [
      "<class 'pandas.core.frame.DataFrame'>\n",
      "RangeIndex: 197625 entries, 0 to 197624\n",
      "Data columns (total 11 columns):\n",
      "c/a                                                                     197625 non-null object\n",
      "unit                                                                    197625 non-null object\n",
      "scp                                                                     197625 non-null object\n",
      "station                                                                 197625 non-null object\n",
      "linename                                                                197625 non-null object\n",
      "division                                                                197625 non-null object\n",
      "date                                                                    197625 non-null object\n",
      "time                                                                    197625 non-null object\n",
      "desc                                                                    197625 non-null object\n",
      "entries                                                                 197625 non-null int64\n",
      "exits                                                                   197625 non-null int64\n",
      "dtypes: int64(2), object(9)\n",
      "memory usage: 16.6+ MB\n"
     ]
    }
   ],
   "source": [
    "#Your code here\n",
    "new_cols = [col.lower() for col in df.columns]\n",
    "df.columns = new_cols\n",
    "df.info()"
   ]
  },
  {
   "cell_type": "markdown",
   "metadata": {},
   "source": [
    "## Change the Index to be the Line Names"
   ]
  },
  {
   "cell_type": "code",
   "execution_count": 21,
   "metadata": {},
   "outputs": [
    {
     "data": {
      "text/plain": [
       "<bound method DataFrame.info of           c/a  unit       scp        station linename division        date  \\\n",
       "0        A002  R051  02-00-00          59 ST  NQR456W      BMT  08/25/2018   \n",
       "1        A002  R051  02-00-00          59 ST  NQR456W      BMT  08/25/2018   \n",
       "2        A002  R051  02-00-00          59 ST  NQR456W      BMT  08/25/2018   \n",
       "3        A002  R051  02-00-00          59 ST  NQR456W      BMT  08/25/2018   \n",
       "4        A002  R051  02-00-00          59 ST  NQR456W      BMT  08/25/2018   \n",
       "5        A002  R051  02-00-00          59 ST  NQR456W      BMT  08/25/2018   \n",
       "6        A002  R051  02-00-00          59 ST  NQR456W      BMT  08/26/2018   \n",
       "7        A002  R051  02-00-00          59 ST  NQR456W      BMT  08/26/2018   \n",
       "8        A002  R051  02-00-00          59 ST  NQR456W      BMT  08/26/2018   \n",
       "9        A002  R051  02-00-00          59 ST  NQR456W      BMT  08/26/2018   \n",
       "10       A002  R051  02-00-00          59 ST  NQR456W      BMT  08/26/2018   \n",
       "11       A002  R051  02-00-00          59 ST  NQR456W      BMT  08/26/2018   \n",
       "12       A002  R051  02-00-00          59 ST  NQR456W      BMT  08/27/2018   \n",
       "13       A002  R051  02-00-00          59 ST  NQR456W      BMT  08/27/2018   \n",
       "14       A002  R051  02-00-00          59 ST  NQR456W      BMT  08/27/2018   \n",
       "15       A002  R051  02-00-00          59 ST  NQR456W      BMT  08/27/2018   \n",
       "16       A002  R051  02-00-00          59 ST  NQR456W      BMT  08/27/2018   \n",
       "17       A002  R051  02-00-00          59 ST  NQR456W      BMT  08/27/2018   \n",
       "18       A002  R051  02-00-00          59 ST  NQR456W      BMT  08/28/2018   \n",
       "19       A002  R051  02-00-00          59 ST  NQR456W      BMT  08/28/2018   \n",
       "20       A002  R051  02-00-00          59 ST  NQR456W      BMT  08/28/2018   \n",
       "21       A002  R051  02-00-00          59 ST  NQR456W      BMT  08/28/2018   \n",
       "22       A002  R051  02-00-00          59 ST  NQR456W      BMT  08/28/2018   \n",
       "23       A002  R051  02-00-00          59 ST  NQR456W      BMT  08/28/2018   \n",
       "24       A002  R051  02-00-00          59 ST  NQR456W      BMT  08/29/2018   \n",
       "25       A002  R051  02-00-00          59 ST  NQR456W      BMT  08/29/2018   \n",
       "26       A002  R051  02-00-00          59 ST  NQR456W      BMT  08/29/2018   \n",
       "27       A002  R051  02-00-00          59 ST  NQR456W      BMT  08/29/2018   \n",
       "28       A002  R051  02-00-00          59 ST  NQR456W      BMT  08/29/2018   \n",
       "29       A002  R051  02-00-00          59 ST  NQR456W      BMT  08/29/2018   \n",
       "...       ...   ...       ...            ...      ...      ...         ...   \n",
       "197595  TRAM2  R469  00-05-01  RIT-ROOSEVELT        R      RIT  08/27/2018   \n",
       "197596  TRAM2  R469  00-05-01  RIT-ROOSEVELT        R      RIT  08/27/2018   \n",
       "197597  TRAM2  R469  00-05-01  RIT-ROOSEVELT        R      RIT  08/27/2018   \n",
       "197598  TRAM2  R469  00-05-01  RIT-ROOSEVELT        R      RIT  08/27/2018   \n",
       "197599  TRAM2  R469  00-05-01  RIT-ROOSEVELT        R      RIT  08/27/2018   \n",
       "197600  TRAM2  R469  00-05-01  RIT-ROOSEVELT        R      RIT  08/27/2018   \n",
       "197601  TRAM2  R469  00-05-01  RIT-ROOSEVELT        R      RIT  08/28/2018   \n",
       "197602  TRAM2  R469  00-05-01  RIT-ROOSEVELT        R      RIT  08/28/2018   \n",
       "197603  TRAM2  R469  00-05-01  RIT-ROOSEVELT        R      RIT  08/28/2018   \n",
       "197604  TRAM2  R469  00-05-01  RIT-ROOSEVELT        R      RIT  08/28/2018   \n",
       "197605  TRAM2  R469  00-05-01  RIT-ROOSEVELT        R      RIT  08/28/2018   \n",
       "197606  TRAM2  R469  00-05-01  RIT-ROOSEVELT        R      RIT  08/28/2018   \n",
       "197607  TRAM2  R469  00-05-01  RIT-ROOSEVELT        R      RIT  08/29/2018   \n",
       "197608  TRAM2  R469  00-05-01  RIT-ROOSEVELT        R      RIT  08/29/2018   \n",
       "197609  TRAM2  R469  00-05-01  RIT-ROOSEVELT        R      RIT  08/29/2018   \n",
       "197610  TRAM2  R469  00-05-01  RIT-ROOSEVELT        R      RIT  08/29/2018   \n",
       "197611  TRAM2  R469  00-05-01  RIT-ROOSEVELT        R      RIT  08/29/2018   \n",
       "197612  TRAM2  R469  00-05-01  RIT-ROOSEVELT        R      RIT  08/29/2018   \n",
       "197613  TRAM2  R469  00-05-01  RIT-ROOSEVELT        R      RIT  08/30/2018   \n",
       "197614  TRAM2  R469  00-05-01  RIT-ROOSEVELT        R      RIT  08/30/2018   \n",
       "197615  TRAM2  R469  00-05-01  RIT-ROOSEVELT        R      RIT  08/30/2018   \n",
       "197616  TRAM2  R469  00-05-01  RIT-ROOSEVELT        R      RIT  08/30/2018   \n",
       "197617  TRAM2  R469  00-05-01  RIT-ROOSEVELT        R      RIT  08/30/2018   \n",
       "197618  TRAM2  R469  00-05-01  RIT-ROOSEVELT        R      RIT  08/30/2018   \n",
       "197619  TRAM2  R469  00-05-01  RIT-ROOSEVELT        R      RIT  08/31/2018   \n",
       "197620  TRAM2  R469  00-05-01  RIT-ROOSEVELT        R      RIT  08/31/2018   \n",
       "197621  TRAM2  R469  00-05-01  RIT-ROOSEVELT        R      RIT  08/31/2018   \n",
       "197622  TRAM2  R469  00-05-01  RIT-ROOSEVELT        R      RIT  08/31/2018   \n",
       "197623  TRAM2  R469  00-05-01  RIT-ROOSEVELT        R      RIT  08/31/2018   \n",
       "197624  TRAM2  R469  00-05-01  RIT-ROOSEVELT        R      RIT  08/31/2018   \n",
       "\n",
       "            time     desc  entries  \\\n",
       "0       00:00:00  REGULAR  6736067   \n",
       "1       04:00:00  REGULAR  6736087   \n",
       "2       08:00:00  REGULAR  6736105   \n",
       "3       12:00:00  REGULAR  6736180   \n",
       "4       16:00:00  REGULAR  6736349   \n",
       "5       20:00:00  REGULAR  6736562   \n",
       "6       00:00:00  REGULAR  6736683   \n",
       "7       04:00:00  REGULAR  6736696   \n",
       "8       08:00:00  REGULAR  6736705   \n",
       "9       12:00:00  REGULAR  6736746   \n",
       "10      16:00:00  REGULAR  6736873   \n",
       "11      20:00:00  REGULAR  6737067   \n",
       "12      00:00:00  REGULAR  6737136   \n",
       "13      04:00:00  REGULAR  6737146   \n",
       "14      08:00:00  REGULAR  6737169   \n",
       "15      12:00:00  REGULAR  6737301   \n",
       "16      16:00:00  REGULAR  6737553   \n",
       "17      20:00:00  REGULAR  6738257   \n",
       "18      00:00:00  REGULAR  6738430   \n",
       "19      04:00:00  REGULAR  6738442   \n",
       "20      08:00:00  REGULAR  6738474   \n",
       "21      12:00:00  REGULAR  6738621   \n",
       "22      16:00:00  REGULAR  6738886   \n",
       "23      20:00:00  REGULAR  6739630   \n",
       "24      00:00:00  REGULAR  6739804   \n",
       "25      04:00:00  REGULAR  6739812   \n",
       "26      08:00:00  REGULAR  6739847   \n",
       "27      12:00:00  REGULAR  6739986   \n",
       "28      16:00:00  REGULAR  6740257   \n",
       "29      20:00:00  REGULAR  6740888   \n",
       "...          ...      ...      ...   \n",
       "197595  01:00:00  REGULAR     5554   \n",
       "197596  05:00:00  REGULAR     5554   \n",
       "197597  09:00:00  REGULAR     5554   \n",
       "197598  13:00:00  REGULAR     5554   \n",
       "197599  17:00:00  REGULAR     5554   \n",
       "197600  21:00:00  REGULAR     5554   \n",
       "197601  01:00:00  REGULAR     5554   \n",
       "197602  05:00:00  REGULAR     5554   \n",
       "197603  09:00:00  REGULAR     5554   \n",
       "197604  13:00:00  REGULAR     5554   \n",
       "197605  17:00:00  REGULAR     5554   \n",
       "197606  21:00:00  REGULAR     5554   \n",
       "197607  01:00:00  REGULAR     5554   \n",
       "197608  05:00:00  REGULAR     5554   \n",
       "197609  09:00:00  REGULAR     5554   \n",
       "197610  13:00:00  REGULAR     5554   \n",
       "197611  17:00:00  REGULAR     5554   \n",
       "197612  21:00:00  REGULAR     5554   \n",
       "197613  01:00:00  REGULAR     5554   \n",
       "197614  05:00:00  REGULAR     5554   \n",
       "197615  09:00:00  REGULAR     5554   \n",
       "197616  13:00:00  REGULAR     5554   \n",
       "197617  17:00:00  REGULAR     5554   \n",
       "197618  21:00:00  REGULAR     5554   \n",
       "197619  01:00:00  REGULAR     5554   \n",
       "197620  05:00:00  REGULAR     5554   \n",
       "197621  09:00:00  REGULAR     5554   \n",
       "197622  13:00:00  REGULAR     5554   \n",
       "197623  17:00:00  REGULAR     5554   \n",
       "197624  21:00:00  REGULAR     5554   \n",
       "\n",
       "        exits                                                                 \n",
       "0                                                 2283184                     \n",
       "1                                                 2283188                     \n",
       "2                                                 2283229                     \n",
       "3                                                 2283314                     \n",
       "4                                                 2283384                     \n",
       "5                                                 2283425                     \n",
       "6                                                 2283460                     \n",
       "7                                                 2283461                     \n",
       "8                                                 2283483                     \n",
       "9                                                 2283524                     \n",
       "10                                                2283587                     \n",
       "11                                                2283631                     \n",
       "12                                                2283656                     \n",
       "13                                                2283658                     \n",
       "14                                                2283736                     \n",
       "15                                                2283965                     \n",
       "16                                                2284025                     \n",
       "17                                                2284091                     \n",
       "18                                                2284121                     \n",
       "19                                                2284126                     \n",
       "20                                                2284216                     \n",
       "21                                                2284402                     \n",
       "22                                                2284425                     \n",
       "23                                                2284478                     \n",
       "24                                                2284508                     \n",
       "25                                                2284512                     \n",
       "26                                                2284600                     \n",
       "27                                                2284838                     \n",
       "28                                                2284896                     \n",
       "29                                                2284941                     \n",
       "...                                                   ...                     \n",
       "197595                                                348                     \n",
       "197596                                                348                     \n",
       "197597                                                348                     \n",
       "197598                                                348                     \n",
       "197599                                                348                     \n",
       "197600                                                348                     \n",
       "197601                                                348                     \n",
       "197602                                                348                     \n",
       "197603                                                348                     \n",
       "197604                                                348                     \n",
       "197605                                                348                     \n",
       "197606                                                348                     \n",
       "197607                                                348                     \n",
       "197608                                                348                     \n",
       "197609                                                348                     \n",
       "197610                                                348                     \n",
       "197611                                                348                     \n",
       "197612                                                348                     \n",
       "197613                                                348                     \n",
       "197614                                                348                     \n",
       "197615                                                348                     \n",
       "197616                                                348                     \n",
       "197617                                                348                     \n",
       "197618                                                348                     \n",
       "197619                                                348                     \n",
       "197620                                                348                     \n",
       "197621                                                348                     \n",
       "197622                                                348                     \n",
       "197623                                                348                     \n",
       "197624                                                348                     \n",
       "\n",
       "[197625 rows x 11 columns]>"
      ]
     },
     "execution_count": 21,
     "metadata": {},
     "output_type": "execute_result"
    }
   ],
   "source": [
    "#Your code here\n",
    "df.reindex(df.linename)\n",
    "df.info"
   ]
  },
  {
   "cell_type": "markdown",
   "metadata": {},
   "source": [
    "## Change the index back"
   ]
  },
  {
   "cell_type": "code",
   "execution_count": 26,
   "metadata": {},
   "outputs": [
    {
     "data": {
      "text/plain": [
       "<bound method DataFrame.info of           c/a  unit       scp        station linename division        date  \\\n",
       "0        A002  R051  02-00-00          59 ST  NQR456W      BMT  08/25/2018   \n",
       "1        A002  R051  02-00-00          59 ST  NQR456W      BMT  08/25/2018   \n",
       "2        A002  R051  02-00-00          59 ST  NQR456W      BMT  08/25/2018   \n",
       "3        A002  R051  02-00-00          59 ST  NQR456W      BMT  08/25/2018   \n",
       "4        A002  R051  02-00-00          59 ST  NQR456W      BMT  08/25/2018   \n",
       "5        A002  R051  02-00-00          59 ST  NQR456W      BMT  08/25/2018   \n",
       "6        A002  R051  02-00-00          59 ST  NQR456W      BMT  08/26/2018   \n",
       "7        A002  R051  02-00-00          59 ST  NQR456W      BMT  08/26/2018   \n",
       "8        A002  R051  02-00-00          59 ST  NQR456W      BMT  08/26/2018   \n",
       "9        A002  R051  02-00-00          59 ST  NQR456W      BMT  08/26/2018   \n",
       "10       A002  R051  02-00-00          59 ST  NQR456W      BMT  08/26/2018   \n",
       "11       A002  R051  02-00-00          59 ST  NQR456W      BMT  08/26/2018   \n",
       "12       A002  R051  02-00-00          59 ST  NQR456W      BMT  08/27/2018   \n",
       "13       A002  R051  02-00-00          59 ST  NQR456W      BMT  08/27/2018   \n",
       "14       A002  R051  02-00-00          59 ST  NQR456W      BMT  08/27/2018   \n",
       "15       A002  R051  02-00-00          59 ST  NQR456W      BMT  08/27/2018   \n",
       "16       A002  R051  02-00-00          59 ST  NQR456W      BMT  08/27/2018   \n",
       "17       A002  R051  02-00-00          59 ST  NQR456W      BMT  08/27/2018   \n",
       "18       A002  R051  02-00-00          59 ST  NQR456W      BMT  08/28/2018   \n",
       "19       A002  R051  02-00-00          59 ST  NQR456W      BMT  08/28/2018   \n",
       "20       A002  R051  02-00-00          59 ST  NQR456W      BMT  08/28/2018   \n",
       "21       A002  R051  02-00-00          59 ST  NQR456W      BMT  08/28/2018   \n",
       "22       A002  R051  02-00-00          59 ST  NQR456W      BMT  08/28/2018   \n",
       "23       A002  R051  02-00-00          59 ST  NQR456W      BMT  08/28/2018   \n",
       "24       A002  R051  02-00-00          59 ST  NQR456W      BMT  08/29/2018   \n",
       "25       A002  R051  02-00-00          59 ST  NQR456W      BMT  08/29/2018   \n",
       "26       A002  R051  02-00-00          59 ST  NQR456W      BMT  08/29/2018   \n",
       "27       A002  R051  02-00-00          59 ST  NQR456W      BMT  08/29/2018   \n",
       "28       A002  R051  02-00-00          59 ST  NQR456W      BMT  08/29/2018   \n",
       "29       A002  R051  02-00-00          59 ST  NQR456W      BMT  08/29/2018   \n",
       "...       ...   ...       ...            ...      ...      ...         ...   \n",
       "197595  TRAM2  R469  00-05-01  RIT-ROOSEVELT        R      RIT  08/27/2018   \n",
       "197596  TRAM2  R469  00-05-01  RIT-ROOSEVELT        R      RIT  08/27/2018   \n",
       "197597  TRAM2  R469  00-05-01  RIT-ROOSEVELT        R      RIT  08/27/2018   \n",
       "197598  TRAM2  R469  00-05-01  RIT-ROOSEVELT        R      RIT  08/27/2018   \n",
       "197599  TRAM2  R469  00-05-01  RIT-ROOSEVELT        R      RIT  08/27/2018   \n",
       "197600  TRAM2  R469  00-05-01  RIT-ROOSEVELT        R      RIT  08/27/2018   \n",
       "197601  TRAM2  R469  00-05-01  RIT-ROOSEVELT        R      RIT  08/28/2018   \n",
       "197602  TRAM2  R469  00-05-01  RIT-ROOSEVELT        R      RIT  08/28/2018   \n",
       "197603  TRAM2  R469  00-05-01  RIT-ROOSEVELT        R      RIT  08/28/2018   \n",
       "197604  TRAM2  R469  00-05-01  RIT-ROOSEVELT        R      RIT  08/28/2018   \n",
       "197605  TRAM2  R469  00-05-01  RIT-ROOSEVELT        R      RIT  08/28/2018   \n",
       "197606  TRAM2  R469  00-05-01  RIT-ROOSEVELT        R      RIT  08/28/2018   \n",
       "197607  TRAM2  R469  00-05-01  RIT-ROOSEVELT        R      RIT  08/29/2018   \n",
       "197608  TRAM2  R469  00-05-01  RIT-ROOSEVELT        R      RIT  08/29/2018   \n",
       "197609  TRAM2  R469  00-05-01  RIT-ROOSEVELT        R      RIT  08/29/2018   \n",
       "197610  TRAM2  R469  00-05-01  RIT-ROOSEVELT        R      RIT  08/29/2018   \n",
       "197611  TRAM2  R469  00-05-01  RIT-ROOSEVELT        R      RIT  08/29/2018   \n",
       "197612  TRAM2  R469  00-05-01  RIT-ROOSEVELT        R      RIT  08/29/2018   \n",
       "197613  TRAM2  R469  00-05-01  RIT-ROOSEVELT        R      RIT  08/30/2018   \n",
       "197614  TRAM2  R469  00-05-01  RIT-ROOSEVELT        R      RIT  08/30/2018   \n",
       "197615  TRAM2  R469  00-05-01  RIT-ROOSEVELT        R      RIT  08/30/2018   \n",
       "197616  TRAM2  R469  00-05-01  RIT-ROOSEVELT        R      RIT  08/30/2018   \n",
       "197617  TRAM2  R469  00-05-01  RIT-ROOSEVELT        R      RIT  08/30/2018   \n",
       "197618  TRAM2  R469  00-05-01  RIT-ROOSEVELT        R      RIT  08/30/2018   \n",
       "197619  TRAM2  R469  00-05-01  RIT-ROOSEVELT        R      RIT  08/31/2018   \n",
       "197620  TRAM2  R469  00-05-01  RIT-ROOSEVELT        R      RIT  08/31/2018   \n",
       "197621  TRAM2  R469  00-05-01  RIT-ROOSEVELT        R      RIT  08/31/2018   \n",
       "197622  TRAM2  R469  00-05-01  RIT-ROOSEVELT        R      RIT  08/31/2018   \n",
       "197623  TRAM2  R469  00-05-01  RIT-ROOSEVELT        R      RIT  08/31/2018   \n",
       "197624  TRAM2  R469  00-05-01  RIT-ROOSEVELT        R      RIT  08/31/2018   \n",
       "\n",
       "            time     desc  entries  \\\n",
       "0       00:00:00  REGULAR  6736067   \n",
       "1       04:00:00  REGULAR  6736087   \n",
       "2       08:00:00  REGULAR  6736105   \n",
       "3       12:00:00  REGULAR  6736180   \n",
       "4       16:00:00  REGULAR  6736349   \n",
       "5       20:00:00  REGULAR  6736562   \n",
       "6       00:00:00  REGULAR  6736683   \n",
       "7       04:00:00  REGULAR  6736696   \n",
       "8       08:00:00  REGULAR  6736705   \n",
       "9       12:00:00  REGULAR  6736746   \n",
       "10      16:00:00  REGULAR  6736873   \n",
       "11      20:00:00  REGULAR  6737067   \n",
       "12      00:00:00  REGULAR  6737136   \n",
       "13      04:00:00  REGULAR  6737146   \n",
       "14      08:00:00  REGULAR  6737169   \n",
       "15      12:00:00  REGULAR  6737301   \n",
       "16      16:00:00  REGULAR  6737553   \n",
       "17      20:00:00  REGULAR  6738257   \n",
       "18      00:00:00  REGULAR  6738430   \n",
       "19      04:00:00  REGULAR  6738442   \n",
       "20      08:00:00  REGULAR  6738474   \n",
       "21      12:00:00  REGULAR  6738621   \n",
       "22      16:00:00  REGULAR  6738886   \n",
       "23      20:00:00  REGULAR  6739630   \n",
       "24      00:00:00  REGULAR  6739804   \n",
       "25      04:00:00  REGULAR  6739812   \n",
       "26      08:00:00  REGULAR  6739847   \n",
       "27      12:00:00  REGULAR  6739986   \n",
       "28      16:00:00  REGULAR  6740257   \n",
       "29      20:00:00  REGULAR  6740888   \n",
       "...          ...      ...      ...   \n",
       "197595  01:00:00  REGULAR     5554   \n",
       "197596  05:00:00  REGULAR     5554   \n",
       "197597  09:00:00  REGULAR     5554   \n",
       "197598  13:00:00  REGULAR     5554   \n",
       "197599  17:00:00  REGULAR     5554   \n",
       "197600  21:00:00  REGULAR     5554   \n",
       "197601  01:00:00  REGULAR     5554   \n",
       "197602  05:00:00  REGULAR     5554   \n",
       "197603  09:00:00  REGULAR     5554   \n",
       "197604  13:00:00  REGULAR     5554   \n",
       "197605  17:00:00  REGULAR     5554   \n",
       "197606  21:00:00  REGULAR     5554   \n",
       "197607  01:00:00  REGULAR     5554   \n",
       "197608  05:00:00  REGULAR     5554   \n",
       "197609  09:00:00  REGULAR     5554   \n",
       "197610  13:00:00  REGULAR     5554   \n",
       "197611  17:00:00  REGULAR     5554   \n",
       "197612  21:00:00  REGULAR     5554   \n",
       "197613  01:00:00  REGULAR     5554   \n",
       "197614  05:00:00  REGULAR     5554   \n",
       "197615  09:00:00  REGULAR     5554   \n",
       "197616  13:00:00  REGULAR     5554   \n",
       "197617  17:00:00  REGULAR     5554   \n",
       "197618  21:00:00  REGULAR     5554   \n",
       "197619  01:00:00  REGULAR     5554   \n",
       "197620  05:00:00  REGULAR     5554   \n",
       "197621  09:00:00  REGULAR     5554   \n",
       "197622  13:00:00  REGULAR     5554   \n",
       "197623  17:00:00  REGULAR     5554   \n",
       "197624  21:00:00  REGULAR     5554   \n",
       "\n",
       "        exits                                                                 \n",
       "0                                                 2283184                     \n",
       "1                                                 2283188                     \n",
       "2                                                 2283229                     \n",
       "3                                                 2283314                     \n",
       "4                                                 2283384                     \n",
       "5                                                 2283425                     \n",
       "6                                                 2283460                     \n",
       "7                                                 2283461                     \n",
       "8                                                 2283483                     \n",
       "9                                                 2283524                     \n",
       "10                                                2283587                     \n",
       "11                                                2283631                     \n",
       "12                                                2283656                     \n",
       "13                                                2283658                     \n",
       "14                                                2283736                     \n",
       "15                                                2283965                     \n",
       "16                                                2284025                     \n",
       "17                                                2284091                     \n",
       "18                                                2284121                     \n",
       "19                                                2284126                     \n",
       "20                                                2284216                     \n",
       "21                                                2284402                     \n",
       "22                                                2284425                     \n",
       "23                                                2284478                     \n",
       "24                                                2284508                     \n",
       "25                                                2284512                     \n",
       "26                                                2284600                     \n",
       "27                                                2284838                     \n",
       "28                                                2284896                     \n",
       "29                                                2284941                     \n",
       "...                                                   ...                     \n",
       "197595                                                348                     \n",
       "197596                                                348                     \n",
       "197597                                                348                     \n",
       "197598                                                348                     \n",
       "197599                                                348                     \n",
       "197600                                                348                     \n",
       "197601                                                348                     \n",
       "197602                                                348                     \n",
       "197603                                                348                     \n",
       "197604                                                348                     \n",
       "197605                                                348                     \n",
       "197606                                                348                     \n",
       "197607                                                348                     \n",
       "197608                                                348                     \n",
       "197609                                                348                     \n",
       "197610                                                348                     \n",
       "197611                                                348                     \n",
       "197612                                                348                     \n",
       "197613                                                348                     \n",
       "197614                                                348                     \n",
       "197615                                                348                     \n",
       "197616                                                348                     \n",
       "197617                                                348                     \n",
       "197618                                                348                     \n",
       "197619                                                348                     \n",
       "197620                                                348                     \n",
       "197621                                                348                     \n",
       "197622                                                348                     \n",
       "197623                                                348                     \n",
       "197624                                                348                     \n",
       "\n",
       "[197625 rows x 11 columns]>"
      ]
     },
     "execution_count": 26,
     "metadata": {},
     "output_type": "execute_result"
    }
   ],
   "source": [
    "# Your code here\n",
    "df.reindex(df.unit)\n",
    "df.info"
   ]
  },
  {
   "cell_type": "markdown",
   "metadata": {},
   "source": [
    "## Create another column 'Num_Lines' that is a count of how many lines pass through a station. Then sort your dataframe by this column in descending order\n",
    "*Hint: According to the [data dictionary](http://web.mta.info/developers/resources/nyct/turnstile/ts_Field_Description.txt), LINENAME represents all train lines that can be boarded at a given station. Normally lines are represented by one character. For example, LINENAME 456NQR represents trains 4, 5, 6, N, Q, and R.*"
   ]
  },
  {
   "cell_type": "code",
   "execution_count": null,
   "metadata": {
    "collapsed": true
   },
   "outputs": [],
   "source": [
    "# Your code here"
   ]
  },
  {
   "cell_type": "markdown",
   "metadata": {},
   "source": [
    "## Write a function to clean a column name"
   ]
  },
  {
   "cell_type": "code",
   "execution_count": 32,
   "metadata": {},
   "outputs": [],
   "source": [
    "def clean(col_name):\n",
    "    cleaned = col_name.title() #Your code here; whatever you want to do to col_name. Hint: think back to str methods.\n",
    "    return cleaned"
   ]
  },
  {
   "cell_type": "code",
   "execution_count": 33,
   "metadata": {},
   "outputs": [],
   "source": [
    "# This is a list comprehension. It applies your clean function to every item in the list.\n",
    "# We then reassign that to df.columns\n",
    "# You shouldn't have to change anything here.\n",
    "# Your function above should work appropriately here.\n",
    "df.columns = [clean(col) for col in df.columns] "
   ]
  },
  {
   "cell_type": "code",
   "execution_count": 34,
   "metadata": {},
   "outputs": [
    {
     "data": {
      "text/plain": [
       "Index(['C/A', 'Unit', 'Scp', 'Station', 'Linename', 'Division', 'Date', 'Time',\n",
       "       'Desc', 'Entries',\n",
       "       'Exits                                                               '],\n",
       "      dtype='object')"
      ]
     },
     "execution_count": 34,
     "metadata": {},
     "output_type": "execute_result"
    }
   ],
   "source": [
    "# Checking the output, we can see the results.\n",
    "df.columns"
   ]
  },
  {
   "cell_type": "markdown",
   "metadata": {},
   "source": [
    "## Group the Data by Day of Week and Plot the Sum of The Numeric Columns"
   ]
  },
  {
   "cell_type": "code",
   "execution_count": 36,
   "metadata": {},
   "outputs": [
    {
     "data": {
      "text/plain": [
       "<matplotlib.axes._subplots.AxesSubplot at 0x22470c0ceb8>"
      ]
     },
     "execution_count": 36,
     "metadata": {},
     "output_type": "execute_result"
    },
    {
     "data": {
      "image/png": "[encoded data removed]",
      "text/plain": [
       "<Figure size 432x288 with 1 Axes>"
      ]
     },
     "metadata": {
      "needs_background": "light"
     },
     "output_type": "display_data"
    }
   ],
   "source": [
    "# Your code here\n",
    "df.Date = pd.to_datetime(df.Date)\n",
    "df['Dayofweek'] = df.Date.dt.dayofweek\n",
    "grouped = df.groupby('Dayofweek').sum()\n",
    "grouped.plot(kind='bar')"
   ]
  },
  {
   "cell_type": "markdown",
   "metadata": {},
   "source": [
    "## Group the Data by Weekend/Weekday and Plot the Sum of the Numeric Columns"
   ]
  },
  {
   "cell_type": "code",
   "execution_count": null,
   "metadata": {
    "collapsed": true
   },
   "outputs": [],
   "source": [
    "#Your code here"
   ]
  },
  {
   "cell_type": "markdown",
   "metadata": {},
   "source": [
    "## Analysis Question: \n",
    "\n",
    "What is misleading about the day of week and weekend/weekday charts you just plotted?"
   ]
  },
  {
   "cell_type": "code",
   "execution_count": null,
   "metadata": {},
   "outputs": [],
   "source": [
    "# Your answer here "
   ]
  },
  {
   "cell_type": "markdown",
   "metadata": {},
   "source": [
    "## Drop a couple of columns"
   ]
  },
  {
   "cell_type": "code",
   "execution_count": null,
   "metadata": {
    "collapsed": true
   },
   "outputs": [],
   "source": [
    "# Your code here"
   ]
  },
  {
   "cell_type": "markdown",
   "metadata": {},
   "source": [
    "## Summary\n",
    "\n",
    "Great! You practiced your data cleanup-skills using Pandas."
   ]
  }
 ],
 "metadata": {
  "kernelspec": {
   "display_name": "Python 3",
   "language": "python",
   "name": "python3"
  },
  "language_info": {
   "codemirror_mode": {
    "name": "ipython",
    "version": 3
   },
   "file_extension": ".py",
   "mimetype": "text/x-python",
   "name": "python",
   "nbconvert_exporter": "python",
   "pygments_lexer": "ipython3",
   "version": "3.7.3"
  }
 },
 "nbformat": 4,
 "nbformat_minor": 2
}
