{
 "cells": [
  {
   "cell_type": "markdown",
   "metadata": {},
   "source": [
    "# Yelp API - Lab\n",
    "\n",
    "\n",
    "## Introduction \n",
    "\n",
    "Now that we've seen how the Yelp API works and some basic Folium visualizations, it's time to put those skills to work in order to create a working map! Taking things a step further, you'll also independently explore how to perform pagination in order to retrieve a full results set from the Yelp API!\n",
    "\n",
    "## Objectives\n",
    "\n",
    "You will be able to: \n",
    "* Create HTTP requests to get data from Yelp API\n",
    "* Parse HTTP responses and perform data analysis on the data returned\n",
    "* Perform pagination to retrieve troves of data!\n",
    "* Create a simple geographical system to view information about selected businesses, at a given location. \n",
    "\n",
    "## Problem Introduction\n",
    "\n",
    "You've now worked with some API calls, but we have yet to see how to retrieve a more complete dataset in a programmatic manner. Returning to the Yelp API, the [documentation](https://www.yelp.com/developers/documentation/v3/business_search) also provides us details regarding the API limits. These often include details about the number of requests a user is allowed to make within a specified time limit and the maximum number of results to be returned. In this case, we are told that any request has a maximum of 50 results per request and defaults to 20. Furthermore, any search will be limited to a total of 1000 results. To retrieve all 1000 of these results, we would have to page through the results piece by piece, retrieving 50 at a time. Processes such as these are often referred to as pagination.\n",
    "\n",
    "In this lab, you will define a search and then paginate over the results to retrieve all of the results. You'll then parse these responses as a DataFrame (for further exploration) and create a map using Folium to visualize the results geographically.\n",
    "\n",
    "## Part I - Make the Initial Request\n",
    "\n",
    "Start by making an initial request to the Yelp API. Your search must include at least 2 parameters: **term** and **location**. For example, you might search for pizza restaurants in NYC. The term and location is up to you but make the request below."
   ]
  },
  {
   "cell_type": "code",
   "execution_count": 1,
   "metadata": {},
   "outputs": [],
   "source": [
    "import json"
   ]
  },
  {
   "cell_type": "code",
   "execution_count": 2,
   "metadata": {},
   "outputs": [],
   "source": [
    "import requests\n"
   ]
  },
  {
   "cell_type": "code",
   "execution_count": 3,
   "metadata": {},
   "outputs": [
    {
     "name": "stdout",
     "output_type": "stream",
     "text": [
      "<Response [200]>\n",
      "<class 'str'>\n",
      "{\"businesses\": [{\"id\": \"kGb2Rnh3Uwni5k0qQY-05Q\", \"alias\": \"nuevo-laredo-cantina-atlanta\", \"name\": \"Nuevo Laredo Cantina\", \"image_url\": \"https://s3-media4.fl.yelpcdn.com/bphoto/yd1--trCtw4RH3d6udVJ0w/o.jpg\", \"is_closed\": false, \"url\": \"https://www.yelp.com/biz/nuevo-laredo-cantina-atlanta?adjust_creative=O3YSotnOLRMPePREWpdTng&utm_campaign=yelp_api_v3&utm_medium=api_v3_business_search&utm_source=O3YSotnOLRMPePREWpdTng\", \"review_count\": 982, \"categories\": [{\"alias\": \"mexican\", \"title\": \"Mexican\"}], \"rating\": 4.0, \"coordinates\": {\"latitude\": 33.8094340325727, \"longitude\": -84.4367971831875}, \"transactions\": [\"delivery\", \"pickup\"], \"price\": \"$$\", \"location\": {\"address1\": \"1495 Chattahoochee Ave NW\", \"address2\": \"\", \"address3\": \"\", \"city\": \"Atlanta\", \"zip_code\": \"30318\", \"country\": \"US\", \"state\": \"GA\", \"display_address\": [\"1495 Chattahoochee Ave NW\", \"Atlanta, GA 30318\"]}, \"phone\": \"+14043529009\", \"display_phone\": \"(404) 352-9009\", \"distance\": 5851.3606057988145}, {\"id\": \"V86AJK3xytBv2C0bwi\n"
     ]
    }
   ],
   "source": [
    "# Your code here\n",
    "\n",
    "def get_keys(path):\n",
    "    with open(path) as f:\n",
    "        return json.load(f)\n",
    "\n",
    "keys = get_keys(\"c:/Users/Owner/.secret/yelp_api.json\")\n",
    "api_key = keys['api_key']\n",
    "\n",
    "term = 'mexican'\n",
    "location = 'Atlanta, GA'\n",
    "SEARCH_LIMIT = 10\n",
    "\n",
    "url = 'https://api.yelp.com/v3/businesses/search'\n",
    "\n",
    "headers = {'Authorization': 'Bearer {}'.format(api_key),}\n",
    "\n",
    "url_params = {\n",
    "                'term':term.replace(' ','+'),\n",
    "                'location': location.replace(' ', '+'),\n",
    "                'limit': SEARCH_LIMIT\n",
    "}\n",
    "\n",
    "response = requests.get(url, headers=headers, params=url_params)\n",
    "print(response)\n",
    "print(type(response.text))\n",
    "print(response.text[:1000])"
   ]
  },
  {
   "cell_type": "markdown",
   "metadata": {},
   "source": [
    "## Pagination\n",
    "\n",
    "Now that you have an initial response, you can examine the contents of the JSON container. For example, you might start with ```response.json().keys()```. Here, you'll see a key for `'total'`, which tells you the full number of matching results given your query parameters. Write a loop (or ideally a function) which then makes successive API calls using the offset parameter to retrieve all of the results (or 5000 for a particularly large result set) for the original query. As you do this, be mindful of how you store the data. Your final goal will be to reformat the data concerning the businesses themselves into a pandas DataFrame from the json objects.\n",
    "\n",
    "**Note: be mindful of the API rate limits. You can only make 5000 requests per day and are also can make requests too fast. Start prototyping small before running a loop that could be faulty. You can also use time.sleep(n) to add delays. For more details see https://www.yelp.com/developers/documentation/v3/rate_limiting.**"
   ]
  },
  {
   "cell_type": "code",
   "execution_count": 4,
   "metadata": {},
   "outputs": [
    {
     "name": "stdout",
     "output_type": "stream",
     "text": [
      "businesses\n",
      "<class 'list'>\n",
      "\n",
      "\n",
      "10\n",
      "total\n",
      "<class 'int'>\n",
      "\n",
      "\n",
      "10\n",
      "region\n",
      "<class 'dict'>\n",
      "\n",
      "\n",
      "10\n"
     ]
    }
   ],
   "source": [
    "# Your code here; use a function or loop to retrieve all the results from your original request\n",
    "for key in response.json().keys():\n",
    "    print(key)\n",
    "    value = response.json()[key]\n",
    "    print(type(value))\n",
    "    print('\\n')\n",
    "    print(len(response.json()['businesses']))\n",
    "    \n",
    "    "
   ]
  },
  {
   "cell_type": "code",
   "execution_count": 5,
   "metadata": {},
   "outputs": [
    {
     "name": "stdout",
     "output_type": "stream",
     "text": [
      "{'center': {'longitude': -84.37362670898438, 'latitude': 33.81321311652279}}\n"
     ]
    }
   ],
   "source": [
    "print(response.json()['region'])"
   ]
  },
  {
   "cell_type": "code",
   "execution_count": 6,
   "metadata": {},
   "outputs": [
    {
     "data": {
      "text/html": [
       "<div>\n",
       "<style scoped>\n",
       "    .dataframe tbody tr th:only-of-type {\n",
       "        vertical-align: middle;\n",
       "    }\n",
       "\n",
       "    .dataframe tbody tr th {\n",
       "        vertical-align: top;\n",
       "    }\n",
       "\n",
       "    .dataframe thead th {\n",
       "        text-align: right;\n",
       "    }\n",
       "</style>\n",
       "<table border=\"1\" class=\"dataframe\">\n",
       "  <thead>\n",
       "    <tr style=\"text-align: right;\">\n",
       "      <th></th>\n",
       "      <th>alias</th>\n",
       "      <th>categories</th>\n",
       "      <th>coordinates</th>\n",
       "      <th>display_phone</th>\n",
       "      <th>distance</th>\n",
       "      <th>id</th>\n",
       "      <th>image_url</th>\n",
       "      <th>is_closed</th>\n",
       "      <th>location</th>\n",
       "      <th>name</th>\n",
       "      <th>phone</th>\n",
       "      <th>price</th>\n",
       "      <th>rating</th>\n",
       "      <th>review_count</th>\n",
       "      <th>transactions</th>\n",
       "      <th>url</th>\n",
       "    </tr>\n",
       "  </thead>\n",
       "  <tbody>\n",
       "    <tr>\n",
       "      <th>0</th>\n",
       "      <td>nuevo-laredo-cantina-atlanta</td>\n",
       "      <td>[{'alias': 'mexican', 'title': 'Mexican'}]</td>\n",
       "      <td>{'latitude': 33.8094340325727, 'longitude': -8...</td>\n",
       "      <td>(404) 352-9009</td>\n",
       "      <td>5851.360606</td>\n",
       "      <td>kGb2Rnh3Uwni5k0qQY-05Q</td>\n",
       "      <td>https://s3-media4.fl.yelpcdn.com/bphoto/yd1--t...</td>\n",
       "      <td>False</td>\n",
       "      <td>{'address1': '1495 Chattahoochee Ave NW', 'add...</td>\n",
       "      <td>Nuevo Laredo Cantina</td>\n",
       "      <td>+14043529009</td>\n",
       "      <td>$$</td>\n",
       "      <td>4.0</td>\n",
       "      <td>982</td>\n",
       "      <td>[delivery, pickup]</td>\n",
       "      <td>https://www.yelp.com/biz/nuevo-laredo-cantina-...</td>\n",
       "    </tr>\n",
       "    <tr>\n",
       "      <th>1</th>\n",
       "      <td>la-pastorcita-atlanta</td>\n",
       "      <td>[{'alias': 'mexican', 'title': 'Mexican'}]</td>\n",
       "      <td>{'latitude': 33.84308, 'longitude': -84.32924}</td>\n",
       "      <td>(678) 705-8162</td>\n",
       "      <td>5278.910299</td>\n",
       "      <td>V86AJK3xytBv2C0bwi9_Ow</td>\n",
       "      <td>https://s3-media2.fl.yelpcdn.com/bphoto/SAFmOf...</td>\n",
       "      <td>False</td>\n",
       "      <td>{'address1': '3304 Buford Hwy NE', 'address2':...</td>\n",
       "      <td>La Pastorcita</td>\n",
       "      <td>+16787058162</td>\n",
       "      <td>$</td>\n",
       "      <td>4.0</td>\n",
       "      <td>352</td>\n",
       "      <td>[delivery, pickup]</td>\n",
       "      <td>https://www.yelp.com/biz/la-pastorcita-atlanta...</td>\n",
       "    </tr>\n",
       "    <tr>\n",
       "      <th>2</th>\n",
       "      <td>agavero-cantina-atlanta-atlanta</td>\n",
       "      <td>[{'alias': 'mexican', 'title': 'Mexican'}, {'a...</td>\n",
       "      <td>{'latitude': 33.7891701465501, 'longitude': -8...</td>\n",
       "      <td>(404) 464-5250</td>\n",
       "      <td>5513.546998</td>\n",
       "      <td>m9OfK-nCIxMB-DCu0lU8Vg</td>\n",
       "      <td>https://s3-media1.fl.yelpcdn.com/bphoto/Ln4jMm...</td>\n",
       "      <td>False</td>\n",
       "      <td>{'address1': '1133 Huff Rd NW', 'address2': 'S...</td>\n",
       "      <td>Agavero Cantina - Atlanta</td>\n",
       "      <td>+14044645250</td>\n",
       "      <td>$$</td>\n",
       "      <td>4.5</td>\n",
       "      <td>202</td>\n",
       "      <td>[delivery, pickup]</td>\n",
       "      <td>https://www.yelp.com/biz/agavero-cantina-atlan...</td>\n",
       "    </tr>\n",
       "    <tr>\n",
       "      <th>3</th>\n",
       "      <td>the-original-el-taco-atlanta</td>\n",
       "      <td>[{'alias': 'mexican', 'title': 'Mexican'}, {'a...</td>\n",
       "      <td>{'latitude': 33.786997, 'longitude': -84.355746}</td>\n",
       "      <td>(404) 873-4656</td>\n",
       "      <td>3350.751580</td>\n",
       "      <td>xI56hTOOHsQfk-DZviOrxQ</td>\n",
       "      <td>https://s3-media3.fl.yelpcdn.com/bphoto/cNunlM...</td>\n",
       "      <td>False</td>\n",
       "      <td>{'address1': '1186 N Highland Ave NE', 'addres...</td>\n",
       "      <td>The Original El Taco</td>\n",
       "      <td>+14048734656</td>\n",
       "      <td>$$</td>\n",
       "      <td>4.0</td>\n",
       "      <td>421</td>\n",
       "      <td>[delivery]</td>\n",
       "      <td>https://www.yelp.com/biz/the-original-el-taco-...</td>\n",
       "    </tr>\n",
       "    <tr>\n",
       "      <th>4</th>\n",
       "      <td>bone-garden-cantina-atlanta</td>\n",
       "      <td>[{'alias': 'mexican', 'title': 'Mexican'}, {'a...</td>\n",
       "      <td>{'latitude': 33.7939834594727, 'longitude': -8...</td>\n",
       "      <td>(404) 418-9072</td>\n",
       "      <td>5296.725590</td>\n",
       "      <td>87O_yo8r8IlG7e82-usSiw</td>\n",
       "      <td>https://s3-media4.fl.yelpcdn.com/bphoto/HCa9GF...</td>\n",
       "      <td>False</td>\n",
       "      <td>{'address1': '1425 Ellsworth Industrial Blvd',...</td>\n",
       "      <td>Bone Garden Cantina</td>\n",
       "      <td>+14044189072</td>\n",
       "      <td>$$</td>\n",
       "      <td>4.0</td>\n",
       "      <td>783</td>\n",
       "      <td>[]</td>\n",
       "      <td>https://www.yelp.com/biz/bone-garden-cantina-a...</td>\n",
       "    </tr>\n",
       "  </tbody>\n",
       "</table>\n",
       "</div>"
      ],
      "text/plain": [
       "                             alias  \\\n",
       "0     nuevo-laredo-cantina-atlanta   \n",
       "1            la-pastorcita-atlanta   \n",
       "2  agavero-cantina-atlanta-atlanta   \n",
       "3     the-original-el-taco-atlanta   \n",
       "4      bone-garden-cantina-atlanta   \n",
       "\n",
       "                                          categories  \\\n",
       "0         [{'alias': 'mexican', 'title': 'Mexican'}]   \n",
       "1         [{'alias': 'mexican', 'title': 'Mexican'}]   \n",
       "2  [{'alias': 'mexican', 'title': 'Mexican'}, {'a...   \n",
       "3  [{'alias': 'mexican', 'title': 'Mexican'}, {'a...   \n",
       "4  [{'alias': 'mexican', 'title': 'Mexican'}, {'a...   \n",
       "\n",
       "                                         coordinates   display_phone  \\\n",
       "0  {'latitude': 33.8094340325727, 'longitude': -8...  (404) 352-9009   \n",
       "1     {'latitude': 33.84308, 'longitude': -84.32924}  (678) 705-8162   \n",
       "2  {'latitude': 33.7891701465501, 'longitude': -8...  (404) 464-5250   \n",
       "3   {'latitude': 33.786997, 'longitude': -84.355746}  (404) 873-4656   \n",
       "4  {'latitude': 33.7939834594727, 'longitude': -8...  (404) 418-9072   \n",
       "\n",
       "      distance                      id  \\\n",
       "0  5851.360606  kGb2Rnh3Uwni5k0qQY-05Q   \n",
       "1  5278.910299  V86AJK3xytBv2C0bwi9_Ow   \n",
       "2  5513.546998  m9OfK-nCIxMB-DCu0lU8Vg   \n",
       "3  3350.751580  xI56hTOOHsQfk-DZviOrxQ   \n",
       "4  5296.725590  87O_yo8r8IlG7e82-usSiw   \n",
       "\n",
       "                                           image_url  is_closed  \\\n",
       "0  https://s3-media4.fl.yelpcdn.com/bphoto/yd1--t...      False   \n",
       "1  https://s3-media2.fl.yelpcdn.com/bphoto/SAFmOf...      False   \n",
       "2  https://s3-media1.fl.yelpcdn.com/bphoto/Ln4jMm...      False   \n",
       "3  https://s3-media3.fl.yelpcdn.com/bphoto/cNunlM...      False   \n",
       "4  https://s3-media4.fl.yelpcdn.com/bphoto/HCa9GF...      False   \n",
       "\n",
       "                                            location  \\\n",
       "0  {'address1': '1495 Chattahoochee Ave NW', 'add...   \n",
       "1  {'address1': '3304 Buford Hwy NE', 'address2':...   \n",
       "2  {'address1': '1133 Huff Rd NW', 'address2': 'S...   \n",
       "3  {'address1': '1186 N Highland Ave NE', 'addres...   \n",
       "4  {'address1': '1425 Ellsworth Industrial Blvd',...   \n",
       "\n",
       "                        name         phone price  rating  review_count  \\\n",
       "0       Nuevo Laredo Cantina  +14043529009    $$     4.0           982   \n",
       "1              La Pastorcita  +16787058162     $     4.0           352   \n",
       "2  Agavero Cantina - Atlanta  +14044645250    $$     4.5           202   \n",
       "3       The Original El Taco  +14048734656    $$     4.0           421   \n",
       "4        Bone Garden Cantina  +14044189072    $$     4.0           783   \n",
       "\n",
       "         transactions                                                url  \n",
       "0  [delivery, pickup]  https://www.yelp.com/biz/nuevo-laredo-cantina-...  \n",
       "1  [delivery, pickup]  https://www.yelp.com/biz/la-pastorcita-atlanta...  \n",
       "2  [delivery, pickup]  https://www.yelp.com/biz/agavero-cantina-atlan...  \n",
       "3          [delivery]  https://www.yelp.com/biz/the-original-el-taco-...  \n",
       "4                  []  https://www.yelp.com/biz/bone-garden-cantina-a...  "
      ]
     },
     "execution_count": 6,
     "metadata": {},
     "output_type": "execute_result"
    }
   ],
   "source": [
    "import pandas as pd\n",
    "df = pd.DataFrame.from_dict(response.json()['businesses'])\n",
    "df.head()"
   ]
  },
  {
   "cell_type": "code",
   "execution_count": 7,
   "metadata": {},
   "outputs": [
    {
     "data": {
      "text/plain": [
       "{'latitude': 33.84308, 'longitude': -84.32924}"
      ]
     },
     "execution_count": 7,
     "metadata": {},
     "output_type": "execute_result"
    }
   ],
   "source": [
    "df.coordinates[1]\n",
    "\n"
   ]
  },
  {
   "cell_type": "markdown",
   "metadata": {},
   "source": [
    "## Exploratory Analysis\n",
    "\n",
    "Take the restaurants from the previous question and do an initial exploratory analysis. At minimum, this should include looking at the distribution of features such as price, rating and number of reviews as well as the relations between these dimensions."
   ]
  },
  {
   "cell_type": "code",
   "execution_count": 8,
   "metadata": {},
   "outputs": [],
   "source": [
    "# Your code here\n",
    "response.json()['region']\n",
    "import folium"
   ]
  },
  {
   "cell_type": "code",
   "execution_count": 9,
   "metadata": {},
   "outputs": [
    {
     "data": {
      "text/html": [
       "<div style=\"width:100%;\"><div style=\"position:relative;width:100%;height:0;padding-bottom:60%;\"><iframe src=\"data:text/html;charset=utf-8;base64,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\" style=\"position:absolute;width:100%;height:100%;left:0;top:0;border:none !important;\" allowfullscreen webkitallowfullscreen mozallowfullscreen></iframe></div></div>"
      ],
      "text/plain": [
       "<folium.folium.Map at 0x25bc6e35b70>"
      ]
     },
     "execution_count": 9,
     "metadata": {},
     "output_type": "execute_result"
    }
   ],
   "source": [
    "long = -84.37362670898438 \n",
    "lat = 33.81321311652279\n",
    "\n",
    "base_map = folium.Map([lat, long], zoom_start=13)\n",
    "base_map\n",
    "\n",
    "    \n",
    "    "
   ]
  },
  {
   "cell_type": "code",
   "execution_count": 14,
   "metadata": {},
   "outputs": [
    {
     "data": {
      "text/html": [
       "<div style=\"width:100%;\"><div style=\"position:relative;width:100%;height:0;padding-bottom:60%;\"><iframe src=\"data:text/html;charset=utf-8;base64,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\" style=\"position:absolute;width:100%;height:100%;left:0;top:0;border:none !important;\" allowfullscreen webkitallowfullscreen mozallowfullscreen></iframe></div></div>"
      ],
      "text/plain": [
       "<folium.folium.Map at 0x25bc6e35b70>"
      ]
     },
     "execution_count": 14,
     "metadata": {},
     "output_type": "execute_result"
    }
   ],
   "source": [
    "for row in df.index:\n",
    "    try:\n",
    "        lat_long = df['coordinates'][row]\n",
    "        lat = lat_long['latitude']\n",
    "        long = lat_long['longitude']\n",
    "        name = df['name'][row]\n",
    "        popup = folium.Popup(name, parse_html=True)\n",
    "        marker = folium.Marker([lat, long], popup=popup)\n",
    "        marker.add_to(base_map)\n",
    "    except:\n",
    "        print(row + 'error')\n",
    "\n",
    "base_map"
   ]
  },
  {
   "cell_type": "markdown",
   "metadata": {},
   "source": [
    "## Mapping\n",
    "\n",
    "Look at the initial Yelp example and try and make a map using Folium of the restaurants you retrieved. Be sure to also add popups to the markers giving some basic information such as name, rating and price."
   ]
  },
  {
   "cell_type": "code",
   "execution_count": null,
   "metadata": {},
   "outputs": [],
   "source": [
    "# Your code here"
   ]
  },
  {
   "cell_type": "markdown",
   "metadata": {},
   "source": [
    "## Summary\n",
    "\n",
    "Nice work! In this lab, you synthesized your skills for the day, making multiple API calls to Yelp in order to paginate through a results set, performing some basic exploratory analysis and then creating a nice map visual to display the results! Well done!"
   ]
  }
 ],
 "metadata": {
  "kernelspec": {
   "display_name": "Python [conda env:learn-env] *",
   "language": "python",
   "name": "conda-env-learn-env-py"
  },
  "language_info": {
   "codemirror_mode": {
    "name": "ipython",
    "version": 3
   },
   "file_extension": ".py",
   "mimetype": "text/x-python",
   "name": "python",
   "nbconvert_exporter": "python",
   "pygments_lexer": "ipython3",
   "version": "3.6.6"
  },
  "toc": {
   "base_numbering": 1,
   "nav_menu": {},
   "number_sections": true,
   "sideBar": true,
   "skip_h1_title": false,
   "title_cell": "Table of Contents",
   "title_sidebar": "Contents",
   "toc_cell": false,
   "toc_position": {},
   "toc_section_display": true,
   "toc_window_display": false
  }
 },
 "nbformat": 4,
 "nbformat_minor": 2
}
